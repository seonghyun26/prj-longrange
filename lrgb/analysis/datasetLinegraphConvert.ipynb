{
 "cells": [
  {
   "cell_type": "code",
   "execution_count": 2,
   "metadata": {},
   "outputs": [
    {
     "name": "stderr",
     "output_type": "stream",
     "text": [
      "/home/shpark/.conda/envs/lrgb/lib/python3.9/site-packages/tqdm/auto.py:21: TqdmWarning: IProgress not found. Please update jupyter and ipywidgets. See https://ipywidgets.readthedocs.io/en/stable/user_install.html\n",
      "  from .autonotebook import tqdm as notebook_tqdm\n"
     ]
    },
    {
     "data": {
      "text/plain": [
       "(Data(edge_index=[2, 6393282], edge_attr=[6393282, 15], x=[4773974, 3], y=[15535, 10], org_edge_index=[2, 4773974]),\n",
       " defaultdict(dict,\n",
       "             {'edge_index': tensor([      0,     328,    1246,  ..., 6392788, 6393108, 6393282]),\n",
       "              'edge_attr': tensor([      0,     328,    1246,  ..., 6392788, 6393108, 6393282]),\n",
       "              'x': tensor([      0,     244,     926,  ..., 4773604, 4773842, 4773974]),\n",
       "              'y': tensor([    0,     1,     2,  ..., 15533, 15534, 15535])}))"
      ]
     },
     "execution_count": 2,
     "metadata": {},
     "output_type": "execute_result"
    }
   ],
   "source": [
    "import torch\n",
    "\n",
    "pt_file = torch.load(\"./geometric_data_processed.pt\")\n",
    "\n",
    "# pt_file[0].org_edge_index = pt_file[0].edge_index\n",
    "# pt_file[1]['org_edge_index'] = pt_file[1]['edge_index']\n",
    "# torch.save(pt_file, \"./geometric_data_processed copy.pt\")\n",
    "\n",
    "pt_file"
   ]
  },
  {
   "cell_type": "code",
   "execution_count": 3,
   "metadata": {},
   "outputs": [
    {
     "name": "stderr",
     "output_type": "stream",
     "text": [
      "100%|██████████| 15535/15535 [01:04<00:00, 242.47it/s]\n"
     ]
    }
   ],
   "source": [
    "import torch\n",
    "from tqdm import tqdm\n",
    "\n",
    "pt_file = torch.load(\"./geometric_data_processed org.pt\")\n",
    "\n",
    "x = pt_file[0].x\n",
    "y = pt_file[0].y\n",
    "x_index_slice = pt_file[1]['x']\n",
    "edge_index = pt_file[0].edge_index\n",
    "edge_attr = pt_file[0].edge_attr\n",
    "edge_index_slice = pt_file[1]['edge_index']\n",
    "numberOfGraphs = pt_file[0].y.shape[0]\n",
    "\n",
    "# line graph node\n",
    "lg_x = edge_attr\n",
    "lg_x_slice = edge_index_slice\n",
    "\n",
    "# line graph edge\n",
    "lg_edge = []\n",
    "lg_edge_attr = []\n",
    "lg_edge_slice = [0]\n",
    "\n",
    "\n",
    "# graphIdx = 0\n",
    "for graphIdx in tqdm(range(numberOfGraphs)):\n",
    "  graphX = x[x_index_slice[graphIdx]:x_index_slice[graphIdx+1], :]\n",
    "  graphEdgeIdx = edge_index[:, edge_index_slice[graphIdx]:edge_index_slice[graphIdx+1]]\n",
    "  graphEdgeAttr = edge_attr[edge_index_slice[graphIdx]:edge_index_slice[graphIdx+1], :]\n",
    "\n",
    "  # NOTE: Making line graph edges\n",
    "  linegraphNodeIdx = graphEdgeIdx.T\n",
    "  linegraphEdgeIdxMask = torch.nonzero(\n",
    "    (linegraphNodeIdx[:, 1, None] == linegraphNodeIdx[:, 0]) &\n",
    "    (linegraphNodeIdx[:, 0, None] != linegraphNodeIdx[:, 1])\n",
    "  )\n",
    "  linegraphEdgeIdx = linegraphNodeIdx[linegraphEdgeIdxMask]\n",
    "  linegraphEdgeAttr_node = graphX[linegraphEdgeIdx[:, 0, 1]]\n",
    "\n",
    "  # TODO: get line graph edge from graph edge\n",
    "  edgeStartIdx = linegraphEdgeIdx[:, 0]\n",
    "  edgeEndIdx = linegraphEdgeIdx[:, 1]\n",
    "  edgeStartMask = torch.where(torch.all(graphEdgeIdx.T[:, None]  == edgeStartIdx, dim=2))\n",
    "  edgeStartAttr = graphEdgeAttr[edgeStartMask[0]]\n",
    "  edgeEndMask = torch.where(torch.all(graphEdgeIdx.T[:, None]  == edgeEndIdx, dim=2))\n",
    "  edgeEndAttr = graphEdgeAttr[edgeEndMask[0]]\n",
    "  linegraphEdgeAttr_edge = torch.cat([edgeStartAttr, edgeEndAttr], dim=1)\n",
    "  linegraphEdgeAttr = torch.cat([linegraphEdgeAttr_node, linegraphEdgeAttr_edge], dim=1)\n",
    "\n",
    "\n",
    "  lg_edge.append(linegraphEdgeIdxMask.T)\n",
    "  lg_edge_attr.append(linegraphEdgeAttr)\n",
    "  lg_edge_slice.append(lg_edge_slice[-1]+linegraphEdgeIdxMask.shape[0])\n",
    "\n",
    "# NOTE: Create tensors for line graph edge, edge_attr, edge_slice\n",
    "lg_edge = torch.cat(lg_edge, dim=1)\n",
    "lg_edge_attr = torch.cat(lg_edge_attr, dim=0)\n",
    "lg_edge_slice = torch.tensor(lg_edge_slice, dtype=torch.int64)\n",
    "\n",
    "\n"
   ]
  },
  {
   "cell_type": "code",
   "execution_count": 4,
   "metadata": {},
   "outputs": [
    {
     "name": "stdout",
     "output_type": "stream",
     "text": [
      "torch.Size([2, 6393282])\n",
      "torch.Size([6393282, 15])\n",
      "tensor([      0,     328,    1246,  ..., 6392788, 6393108, 6393282])\n",
      "torch.Size([15536])\n"
     ]
    }
   ],
   "source": [
    "print(lg_edge.shape)\n",
    "print(lg_edge_attr.shape)\n",
    "print(lg_edge_slice)\n",
    "print(x_index_slice.shape)"
   ]
  },
  {
   "cell_type": "code",
   "execution_count": 6,
   "metadata": {},
   "outputs": [],
   "source": [
    "# NOTE: create line graph dataset\n",
    "pt_file = torch.load(\"./geometric_data_processed copy.pt\")\n",
    "\n",
    "pt_file[0].x = lg_x\n",
    "pt_file[1]['x'] = lg_x_slice\n",
    "pt_file[0].edge_index = lg_edge\n",
    "pt_file[0].edge_attr = lg_edge_attr\n",
    "pt_file[1]['edge_index'] = lg_edge_slice\n",
    "pt_file[1]['edge_attr'] = lg_edge_slice\n",
    "\n",
    "torch.save(pt_file, \"./geometric_data_processed lg.pt\")"
   ]
  },
  {
   "cell_type": "code",
   "execution_count": 7,
   "metadata": {},
   "outputs": [
    {
     "name": "stdout",
     "output_type": "stream",
     "text": [
      "(Data(edge_index=[2, 4773974], edge_attr=[4773974, 3], x=[2344859, 9], y=[15535, 10]), defaultdict(<class 'dict'>, {'edge_index': tensor([      0,     244,     926,  ..., 4773604, 4773842, 4773974]), 'edge_attr': tensor([      0,     244,     926,  ..., 4773604, 4773842, 4773974]), 'x': tensor([      0,     119,     457,  ..., 2344679, 2344792, 2344859]), 'y': tensor([    0,     1,     2,  ..., 15533, 15534, 15535])}))\n",
      "(Data(edge_index=[2, 6393282], edge_attr=[6393282, 15], x=[4773974, 3], y=[15535, 10], org_edge_index=[2, 4773974]), defaultdict(<class 'dict'>, {'edge_index': tensor([      0,     328,    1246,  ..., 6392788, 6393108, 6393282]), 'edge_attr': tensor([      0,     328,    1246,  ..., 6392788, 6393108, 6393282]), 'x': tensor([      0,     244,     926,  ..., 4773604, 4773842, 4773974]), 'y': tensor([    0,     1,     2,  ..., 15533, 15534, 15535])}))\n"
     ]
    }
   ],
   "source": [
    "pt_file = torch.load(\"./geometric_data_processed org.pt\")\n",
    "print(pt_file)\n",
    "pt_file = torch.load(\"./geometric_data_processed.pt\")\n",
    "print(pt_file)\n"
   ]
  },
  {
   "cell_type": "code",
   "execution_count": 9,
   "metadata": {},
   "outputs": [
    {
     "data": {
      "text/plain": [
       "torch.int64"
      ]
     },
     "execution_count": 9,
     "metadata": {},
     "output_type": "execute_result"
    }
   ],
   "source": [
    "pt_file = torch.load(\"./geometric_data_processed.pt\")\n",
    "\n",
    "x = pt_file[0].x\n",
    "x.dtype"
   ]
  }
 ],
 "metadata": {
  "kernelspec": {
   "display_name": "lrgb",
   "language": "python",
   "name": "python3"
  },
  "language_info": {
   "codemirror_mode": {
    "name": "ipython",
    "version": 3
   },
   "file_extension": ".py",
   "mimetype": "text/x-python",
   "name": "python",
   "nbconvert_exporter": "python",
   "pygments_lexer": "ipython3",
   "version": "3.9.16"
  },
  "orig_nbformat": 4
 },
 "nbformat": 4,
 "nbformat_minor": 2
}
