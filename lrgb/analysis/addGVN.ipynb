{
 "cells": [
  {
   "cell_type": "code",
   "execution_count": 3,
   "metadata": {},
   "outputs": [
    {
     "data": {
      "text/plain": [
       "(Data(edge_index=[2, 4773974], edge_attr=[4773974, 3], x=[2344859, 9], y=[15535, 10]),\n",
       " defaultdict(dict,\n",
       "             {'edge_index': tensor([      0,     244,     926,  ..., 4773604, 4773842, 4773974]),\n",
       "              'edge_attr': tensor([      0,     244,     926,  ..., 4773604, 4773842, 4773974]),\n",
       "              'x': tensor([      0,     119,     457,  ..., 2344679, 2344792, 2344859]),\n",
       "              'y': tensor([    0,     1,     2,  ..., 15533, 15534, 15535])}))"
      ]
     },
     "execution_count": 3,
     "metadata": {},
     "output_type": "execute_result"
    }
   ],
   "source": [
    "import torch\n",
    "\n",
    "pt_file = torch.load(\"./geometric_data_processed org.pt\")\n",
    "\n",
    "pt_file\n",
    "# x_index_slice = pt_file[1]['x']\n",
    "# edge_index = pt_file[0].edge_index\n",
    "# edge_attr = pt_file[0].edge_attr\n",
    "# edge_index_slice = pt_file[1]['edge_index']"
   ]
  },
  {
   "cell_type": "code",
   "execution_count": 23,
   "metadata": {},
   "outputs": [
    {
     "name": "stderr",
     "output_type": "stream",
     "text": [
      "100%|██████████| 15535/15535 [14:49<00:00, 17.47it/s]\n"
     ]
    }
   ],
   "source": [
    "import torch\n",
    "from tqdm import tqdm\n",
    "\n",
    "pt_file = torch.load(\"./geometric_data_processed org.pt\")\n",
    "\n",
    "x = pt_file[0].x\n",
    "y = pt_file[0].y\n",
    "x_index_slice = pt_file[1]['x']\n",
    "edge_index = pt_file[0].edge_index\n",
    "edge_attr = pt_file[0].edge_attr\n",
    "edge_index_slice = pt_file[1]['edge_index']\n",
    "numberOfGraphs = pt_file[0].y.shape[0]\n",
    "\n",
    "# line graph node\n",
    "# lg_x = edge_attr\n",
    "lg_x = []\n",
    "lg_x_slice = edge_index_slice\n",
    "\n",
    "# line graph edge\n",
    "lg_edge = []\n",
    "lg_edge_attr = []\n",
    "lg_edge_slice = [0]\n",
    "\n",
    "\n",
    "# graphIdx = 0\n",
    "for graphIdx in tqdm(range(numberOfGraphs)):\n",
    "  # print()\n",
    "  graphX = x[x_index_slice[graphIdx]:x_index_slice[graphIdx+1], :]\n",
    "\n",
    "  linegraphNodeAttr_edge = edge_attr[edge_index_slice[graphIdx]:edge_index_slice[graphIdx+1], :]\n",
    "  linegraphNodeAttr_node = graphX[edge_index[:, edge_index_slice[graphIdx]:edge_index_slice[graphIdx+1]].T]\n",
    "  # linegraphNodeAttr_node = torch.cat([, linegraphNodeAttr_node[:, 1, :]], dim=1)\n",
    "  # print(lg_x[lg_x_slice[graphIdx]:lg_x_slice[graphIdx+1], :].shape)\n",
    "  # print(linegraphNodeAttr_node.shape)\n",
    "\n",
    "  graphEdgeIdx = edge_index[:, edge_index_slice[graphIdx]:edge_index_slice[graphIdx+1]]\n",
    "  graphEdgeAttr = edge_attr[edge_index_slice[graphIdx]:edge_index_slice[graphIdx+1], :]\n",
    "\n",
    "\n",
    "  # NOTE: Add global virtual node to graph\n",
    "  globalVirtualNodeX = torch.zeros(1, graphX.shape[1])\n",
    "  # newNodeNumber = graphX.shape[0]\n",
    "  newNodeNumber = max(graphEdgeIdx[0, :]) + 1\n",
    "  graphX = torch.cat([graphX, globalVirtualNodeX], dim=0)\n",
    "\n",
    "  uniqueNodes = torch.unique(graphEdgeIdx[0,:])\n",
    "  newEdge1 = torch.tensor([[i, newNodeNumber] for i in range(graphX.shape[0]-1)]).T\n",
    "  newEdge2 = torch.tensor([[newNodeNumber, i] for i in range(graphX.shape[0]-1)]).T\n",
    "  # print(uniqueNodes.shape)\n",
    "  # print(uniqueNodes)\n",
    "  # print(newEdge1.shape)\n",
    "  # print(newEdge1)\n",
    "  # print(newEdge1[:, -4:])\n",
    "  graphEdgeIdx = torch.cat([graphEdgeIdx, newEdge1, newEdge2], dim=1)\n",
    "  graphEdgeAttr = torch.cat([graphEdgeAttr, torch.zeros([newEdge1.shape[1]*2, graphEdgeAttr.shape[1]])], dim=0)\n",
    "\n",
    "  # NOTE: Making line graph edges\n",
    "  linegraphNodeIdx = graphEdgeIdx.T\n",
    "  linegraphEdgeIdxMask = torch.nonzero(\n",
    "    (linegraphNodeIdx[:, 1, None] == linegraphNodeIdx[:, 0]) &\n",
    "    (linegraphNodeIdx[:, 0, None] != linegraphNodeIdx[:, 1])\n",
    "  )\n",
    "  linegraphEdgeIdx = linegraphNodeIdx[linegraphEdgeIdxMask]\n",
    "  linegraphEdgeAttr_node = graphX[linegraphEdgeIdx[:, 0, 1]]\n",
    "\n",
    "  # NOTE: line graph edge attribute\n",
    "  edgeStartMask = torch.all(graphEdgeIdx.T.unsqueeze(0) == edgeStartIdx.unsqueeze(1) , dim=2).nonzero(as_tuple=False)[:,1]\n",
    "  edgeEndMask = torch.all(graphEdgeIdx.T.unsqueeze(0) == edgeEndIdx.unsqueeze(1), dim=2).nonzero(as_tuple=False)[:,1]\n",
    "  edgeStartAttr = graphEdgeAttr[edgeStartMask]\n",
    "  edgeEndAttr = graphEdgeAttr[edgeEndMask]\n",
    "  # print(linegraphEdgeIdx.shape)\n",
    "  # print(edgeStartIdx.shape)\n",
    "  # print(edgeStartAttr.shape)\n",
    "\n",
    "\n",
    "  lg_x.append(torch.cat([linegraphNodeAttr_edge, linegraphNodeAttr_node[:, 0, :], linegraphNodeAttr_node[:, 1, :]], dim=1))\n",
    "  lg_edge.append(linegraphEdgeIdxMask.T)\n",
    "  lg_edge_attr.append(linegraphEdgeAttr)\n",
    "  lg_edge_slice.append(lg_edge_slice[-1]+linegraphEdgeIdxMask.shape[0])\n",
    "\n",
    "\n",
    "\n",
    "  \n",
    "\n"
   ]
  },
  {
   "cell_type": "code",
   "execution_count": 25,
   "metadata": {},
   "outputs": [
    {
     "name": "stdout",
     "output_type": "stream",
     "text": [
      "torch.Size([244, 21])\n",
      "torch.Size([2, 14858])\n",
      "torch.Size([15334, 15])\n",
      "15536\n"
     ]
    }
   ],
   "source": [
    "print(lg_x[0].shape)\n",
    "print(lg_edge[0].shape)\n",
    "print(lg_edge_attr[0].shape)\n",
    "print(len(lg_edge_slice))"
   ]
  },
  {
   "cell_type": "code",
   "execution_count": 26,
   "metadata": {},
   "outputs": [],
   "source": [
    "# NOTE: Create tensors for line graph edge, edge_attr, edge_slice\n",
    "lg_x = torch.cat(lg_x, dim=0)\n",
    "lg_edge = torch.cat(lg_edge, dim=1)\n",
    "lg_edge_attr = torch.cat(lg_edge_attr, dim=0)\n",
    "lg_edge_slice = torch.tensor(lg_edge_slice, dtype=torch.int64)\n",
    "\n",
    "# NOTE: create line graph dataset\n",
    "pt_file = torch.load(\"./geometric_data_processed copy.pt\")\n",
    "\n",
    "pt_file[0].x = lg_x\n",
    "pt_file[1]['x'] = lg_x_slice\n",
    "pt_file[0].edge_index = lg_edge\n",
    "pt_file[0].edge_attr = lg_edge_attr\n",
    "pt_file[1]['edge_index'] = lg_edge_slice\n",
    "pt_file[1]['edge_attr'] = lg_edge_slice\n",
    "\n",
    "torch.save(pt_file, \"./geometric_data_processed lg-gvn.pt\")"
   ]
  }
 ],
 "metadata": {
  "kernelspec": {
   "display_name": "lrgb",
   "language": "python",
   "name": "python3"
  },
  "language_info": {
   "codemirror_mode": {
    "name": "ipython",
    "version": 3
   },
   "file_extension": ".py",
   "mimetype": "text/x-python",
   "name": "python",
   "nbconvert_exporter": "python",
   "pygments_lexer": "ipython3",
   "version": "3.9.16"
  },
  "orig_nbformat": 4
 },
 "nbformat": 4,
 "nbformat_minor": 2
}
