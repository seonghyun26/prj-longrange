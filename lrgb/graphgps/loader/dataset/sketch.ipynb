{
 "cells": [
  {
   "cell_type": "code",
   "execution_count": null,
   "metadata": {},
   "outputs": [],
   "source": [
    "  # line graph node\n",
    "  lg_node_attr_edge = edge_attr\n",
    "  lg_node_attr_node = x[edge_index.T]\n",
    "  lg_node_attr = torch.cat([lg_node_attr_edge, lg_node_attr_node[:, 0, :], lg_node_attr_node[:, 1, :]], dim=1)"
   ]
  },
  {
   "cell_type": "code",
   "execution_count": null,
   "metadata": {},
   "outputs": [],
   "source": [
    "# line graph edge index\n",
    "\n",
    "lg_node_idx = edge_index.T\n",
    "lg_edge_idx_mask = torch.nonzero(\n",
    "  (lg_node_idx[:, 1, None] == lg_node_idx[:, 0]) &\n",
    "  (lg_node_idx[:, 0, None] != lg_node_idx[:, 1])\n",
    ")\n",
    "lg_edge_idx = lg_node_idx[lg_edge_idx_mask]"
   ]
  },
  {
   "cell_type": "code",
   "execution_count": null,
   "metadata": {},
   "outputs": [],
   "source": [
    "# line graph edge attr\n",
    "\n",
    "lg_edge_attr_node = x[lg_edge_idx[:, 0, 1]]\n",
    "edgeStartMask = lg_edge_idx_mask[:, 0].T\n",
    "edgeEndMask = lg_edge_idx_mask[:, 1].T\n",
    "lg_edge_attr_start = edge_attr[edgeStartMask]\n",
    "lg_edge_attr_end = edge_attr[edgeEndMask]\n",
    "lg_edge_attr = torch.cat([lg_edge_attr_node, lg_edge_attr_start, lg_edge_attr_end], dim=1)"
   ]
  },
  {
   "cell_type": "code",
   "execution_count": null,
   "metadata": {},
   "outputs": [],
   "source": [
    "mask = torch.cat([torch.zeros(1).to(6), batch.org_graph_size]).type(torch.int64)[:-1]\n",
    "padding = torch.repeat_interleave(mask, batch.ptr[1:] - batch.ptr[:-1])\n",
    "padded_lg_node_idx = batch.lg_node_idx + padding.repeat(2, 1).T"
   ]
  }
 ],
 "metadata": {
  "language_info": {
   "name": "python"
  },
  "orig_nbformat": 4
 },
 "nbformat": 4,
 "nbformat_minor": 2
}
